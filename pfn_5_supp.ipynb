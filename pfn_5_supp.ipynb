{
 "cells": [
  {
   "cell_type": "code",
   "execution_count": 1,
   "metadata": {
    "id": "grdiAHU3R2gV"
   },
   "outputs": [],
   "source": [
    "import numpy as np\n",
    "arr = np.load('ex_array.npy')"
   ]
  },
  {
   "cell_type": "markdown",
   "metadata": {
    "id": "MuIKgvtilxHD"
   },
   "source": [
    "### Reshaping\n",
    "Often, we want to arrange an array in a different shape. For this purpose, we can use the `reshape` method."
   ]
  },
  {
   "cell_type": "code",
   "execution_count": 2,
   "metadata": {
    "colab": {
     "base_uri": "https://localhost:8080/"
    },
    "id": "ZjCvuuQzlvF1",
    "outputId": "d4ce1892-1e3d-4279-b136-4bbd599cc5da"
   },
   "outputs": [
    {
     "data": {
      "text/plain": [
       "array([[1, 2],\n",
       "       [3, 4],\n",
       "       [5, 6]])"
      ]
     },
     "execution_count": 2,
     "metadata": {},
     "output_type": "execute_result"
    }
   ],
   "source": [
    "mat_1 = np.array([\n",
    "    [1, 2],\n",
    "    [3, 4],\n",
    "    [5, 6]\n",
    "])\n",
    "mat_1"
   ]
  },
  {
   "cell_type": "code",
   "execution_count": 3,
   "metadata": {
    "colab": {
     "base_uri": "https://localhost:8080/"
    },
    "id": "9aauGBe2oKv6",
    "outputId": "ef15dc88-ceb9-4a82-b47a-777f505f1c94"
   },
   "outputs": [
    {
     "data": {
      "text/plain": [
       "(3, 2)"
      ]
     },
     "execution_count": 3,
     "metadata": {},
     "output_type": "execute_result"
    }
   ],
   "source": [
    "mat_1.shape"
   ]
  },
  {
   "cell_type": "markdown",
   "metadata": {
    "id": "fExOr0gxn4vY"
   },
   "source": [
    "The simplest example of this is flattening a matrix:"
   ]
  },
  {
   "cell_type": "code",
   "execution_count": 4,
   "metadata": {
    "colab": {
     "base_uri": "https://localhost:8080/"
    },
    "id": "H-IH9FJ2n3MV",
    "outputId": "f147da32-b9b1-43ac-de71-44e7c27b8ed2"
   },
   "outputs": [
    {
     "data": {
      "text/plain": [
       "array([1, 2, 3, 4, 5, 6])"
      ]
     },
     "execution_count": 4,
     "metadata": {},
     "output_type": "execute_result"
    }
   ],
   "source": [
    "mat_1.reshape(6)"
   ]
  },
  {
   "cell_type": "markdown",
   "metadata": {
    "id": "HwcaFKnloR7L"
   },
   "source": [
    "This is so popular that there is a special function for it:"
   ]
  },
  {
   "cell_type": "code",
   "execution_count": 5,
   "metadata": {
    "colab": {
     "base_uri": "https://localhost:8080/"
    },
    "id": "FTDPCtLPoU9l",
    "outputId": "5b843611-e49e-47ad-a73c-0093719ee7ac"
   },
   "outputs": [
    {
     "data": {
      "text/plain": [
       "array([1, 2, 3, 4, 5, 6])"
      ]
     },
     "execution_count": 5,
     "metadata": {},
     "output_type": "execute_result"
    }
   ],
   "source": [
    "mat_1.flatten()"
   ]
  },
  {
   "cell_type": "code",
   "execution_count": 6,
   "metadata": {
    "colab": {
     "base_uri": "https://localhost:8080/"
    },
    "id": "U-VRavb50Zi_",
    "outputId": "77324ef4-8879-4158-aabe-4db10208d3af"
   },
   "outputs": [
    {
     "data": {
      "text/plain": [
       "array([[1, 2],\n",
       "       [3, 4],\n",
       "       [5, 6]])"
      ]
     },
     "execution_count": 6,
     "metadata": {},
     "output_type": "execute_result"
    }
   ],
   "source": [
    "mat_1"
   ]
  },
  {
   "cell_type": "markdown",
   "metadata": {
    "id": "3FNnyFJsoBgz"
   },
   "source": [
    "As you can see, the `reshape` method iterates through rows before columns. What will be the output of `mat_1.reshape(2,3)`?"
   ]
  },
  {
   "cell_type": "code",
   "execution_count": 7,
   "metadata": {
    "colab": {
     "base_uri": "https://localhost:8080/"
    },
    "id": "1NRZgqsIoAuD",
    "outputId": "9dbd54f2-08aa-4595-f6fd-f6577067162d"
   },
   "outputs": [
    {
     "data": {
      "text/plain": [
       "array([[1, 2, 3],\n",
       "       [4, 5, 6]])"
      ]
     },
     "execution_count": 7,
     "metadata": {},
     "output_type": "execute_result"
    }
   ],
   "source": [
    "mat_3 = mat_1.reshape(2, 3)  #grapse mu ta values me rows kai columns dhladh me 2 rows kai 3 columns afu exume mat_1.reshape(2,3)\n",
    "mat_3"
   ]
  },
  {
   "cell_type": "code",
   "execution_count": 8,
   "metadata": {
    "colab": {
     "base_uri": "https://localhost:8080/"
    },
    "id": "y7YTZANJoOhC",
    "outputId": "635c0455-e593-4468-9091-ddec16c6fe3b"
   },
   "outputs": [
    {
     "data": {
      "text/plain": [
       "(2, 3)"
      ]
     },
     "execution_count": 8,
     "metadata": {},
     "output_type": "execute_result"
    }
   ],
   "source": [
    "mat_3.shape      #dwse mu ton arithmo twn rows kai twn columns"
   ]
  },
  {
   "cell_type": "markdown",
   "metadata": {
    "id": "MW48os6XStT0"
   },
   "source": [
    "## Exercises\n",
    "1. What will be the output of the following piece of code:\n",
    "```\n",
    "vec_1 = np.array([1,2,3,4])\n",
    "vec_1.reshape(2,2)\n",
    "```\n",
    "2. Consider the example array we considered in the lesson (it is loaded into this notebook in the first line together with the numpy import). As a reminder the first two dimensions referred to two different conditions for the neural data and ten repetitions of the measurements. Suppose you didn't care about the differences between those conditions and simply wanted to consider the total of 20 trials as repetitions, thus considering a matrix with 20 repetitions, 50 neurons, and 2000 timesteps. How could you reshape the array in this manner?"
   ]
  },
  {
   "cell_type": "code",
   "execution_count": 9,
   "metadata": {},
   "outputs": [
    {
     "data": {
      "text/plain": [
       "array([1, 2, 3, 4])"
      ]
     },
     "execution_count": 9,
     "metadata": {},
     "output_type": "execute_result"
    }
   ],
   "source": [
    "#Exercise 1\n",
    "vec_1=np.array([1,2,3,4])\n",
    "vec_1"
   ]
  },
  {
   "cell_type": "code",
   "execution_count": 10,
   "metadata": {},
   "outputs": [
    {
     "data": {
      "text/plain": [
       "array([[1, 2],\n",
       "       [3, 4]])"
      ]
     },
     "execution_count": 10,
     "metadata": {},
     "output_type": "execute_result"
    }
   ],
   "source": [
    "#Exercise 1\n",
    "vec_1.reshape(2,2)"
   ]
  },
  {
   "cell_type": "code",
   "execution_count": 62,
   "metadata": {},
   "outputs": [
    {
     "data": {
      "text/plain": [
       "array([[[0.10673565, 0.85001343, 0.0661262 , ..., 1.22214287,\n",
       "         1.8543381 , 0.02977156],\n",
       "        [1.74584281, 1.04634545, 1.19461252, ..., 0.38699475,\n",
       "         0.1462578 , 0.55766886],\n",
       "        [1.27660851, 1.63782002, 1.73077654, ..., 0.26917844,\n",
       "         0.88751874, 0.49740966],\n",
       "        ...,\n",
       "        [0.13397769, 0.16198789, 0.4464806 , ..., 0.43995243,\n",
       "         0.64259425, 1.23527806],\n",
       "        [2.47564259, 1.69413446, 2.1241746 , ..., 2.61901093,\n",
       "         3.11246504, 1.92026681],\n",
       "        [0.7296442 , 2.04679777, 1.37959358, ..., 1.7419921 ,\n",
       "         2.11039   , 0.89870327]],\n",
       "\n",
       "       [[0.81078512, 0.93306242, 0.25937912, ..., 1.31543734,\n",
       "         1.29622586, 1.23752785],\n",
       "        [0.56674586, 0.78873287, 1.09353632, ..., 0.49521212,\n",
       "         0.21889655, 0.55503936],\n",
       "        [0.88290151, 0.68693426, 1.2506505 , ..., 0.9044605 ,\n",
       "         0.46007422, 0.43821697],\n",
       "        ...,\n",
       "        [0.03644922, 0.57104717, 0.49534172, ..., 0.59404023,\n",
       "         0.28135146, 0.19247644],\n",
       "        [1.60489624, 2.55631543, 1.83915545, ..., 1.86179063,\n",
       "         2.80563694, 2.79426859],\n",
       "        [0.97578983, 0.81028187, 1.88447041, ..., 1.57769368,\n",
       "         1.54307961, 0.65118968]],\n",
       "\n",
       "       [[0.61966068, 1.44403366, 0.72517757, ..., 0.6206513 ,\n",
       "         1.42247153, 0.72964978],\n",
       "        [0.64173909, 1.09248843, 0.61249948, ..., 0.03015285,\n",
       "         0.89120345, 0.51713374],\n",
       "        [0.86358574, 2.28749716, 0.48566659, ..., 0.62105937,\n",
       "         1.59913527, 0.19207081],\n",
       "        ...,\n",
       "        [0.04606719, 0.22827231, 0.46245146, ..., 0.73062606,\n",
       "         0.2283743 , 0.8205785 ],\n",
       "        [2.24037994, 1.87346609, 1.96502239, ..., 2.30925982,\n",
       "         2.73748694, 3.56089223],\n",
       "        [1.15148873, 1.41458661, 0.27498884, ..., 1.69850755,\n",
       "         2.5434567 , 0.95796905]],\n",
       "\n",
       "       ...,\n",
       "\n",
       "       [[0.38956964, 0.30087309, 0.85343146, ..., 0.85701332,\n",
       "         0.13636922, 1.24087619],\n",
       "        [0.49428024, 1.35443235, 0.64710212, ..., 1.73071092,\n",
       "         2.22327083, 1.01799698],\n",
       "        [0.62026317, 0.0516824 , 0.5676312 , ..., 1.13434223,\n",
       "         0.82781713, 1.21729685],\n",
       "        ...,\n",
       "        [0.09055181, 0.35660185, 0.20710203, ..., 0.24931519,\n",
       "         0.02999377, 0.40637449],\n",
       "        [0.34278407, 0.13930051, 0.63727756, ..., 2.44155474,\n",
       "         1.60648029, 1.958799  ],\n",
       "        [0.26638395, 0.47141242, 1.08164395, ..., 1.34015508,\n",
       "         1.23020243, 0.48362278]],\n",
       "\n",
       "       [[0.31850053, 0.7615127 , 0.03598045, ..., 1.04317196,\n",
       "         0.95159482, 0.8517027 ],\n",
       "        [0.99385954, 0.01461681, 0.6460239 , ..., 1.30609822,\n",
       "         0.90706438, 1.37250174],\n",
       "        [0.30829144, 0.51328743, 1.01602336, ..., 0.22418582,\n",
       "         1.59357335, 0.12351038],\n",
       "        ...,\n",
       "        [0.56797112, 0.15006234, 1.1513612 , ..., 0.44030953,\n",
       "         0.61009791, 0.79955995],\n",
       "        [0.22544596, 0.88361027, 1.55805912, ..., 1.05116421,\n",
       "         0.94195273, 1.89087367],\n",
       "        [0.11831056, 0.216328  , 1.07968756, ..., 1.25095419,\n",
       "         1.82909596, 0.74648575]],\n",
       "\n",
       "       [[0.18632757, 0.26324649, 0.30771808, ..., 0.52219091,\n",
       "         1.57517315, 1.66238001],\n",
       "        [0.05297404, 0.30309471, 1.32193253, ..., 1.23435937,\n",
       "         1.46987233, 1.0612396 ],\n",
       "        [1.46604943, 0.16546947, 0.04961938, ..., 0.18278035,\n",
       "         0.85645147, 0.03599882],\n",
       "        ...,\n",
       "        [0.39914998, 0.49048593, 0.40953532, ..., 0.48570559,\n",
       "         0.04499614, 0.82305129],\n",
       "        [0.27990654, 0.17906216, 1.50349452, ..., 2.17916225,\n",
       "         1.19628134, 1.42535435],\n",
       "        [0.50920068, 1.049748  , 0.07445867, ..., 2.55449767,\n",
       "         2.08818279, 1.34984776]]])"
      ]
     },
     "execution_count": 62,
     "metadata": {},
     "output_type": "execute_result"
    }
   ],
   "source": [
    "#Exercise 2 \n",
    "import numpy as np\n",
    "arr = np.load('ex_array.npy')\n",
    "arr.shape\n",
    "arr.reshape(20,50,2000)\n",
    "\n",
    "\n",
    "\n"
   ]
  },
  {
   "cell_type": "markdown",
   "metadata": {
    "id": "Cb8OBYzfSlW7"
   },
   "source": [
    "## Transposing"
   ]
  },
  {
   "cell_type": "markdown",
   "metadata": {
    "id": "8fI1EMOcqK9b"
   },
   "source": [
    "`mat_1.T` transposes the matrix flipping rows and columns."
   ]
  },
  {
   "cell_type": "code",
   "execution_count": 29,
   "metadata": {
    "colab": {
     "base_uri": "https://localhost:8080/"
    },
    "id": "9-nPtGbx3nqi",
    "outputId": "36e37762-1316-4fe2-dedd-c302b60fdcfd"
   },
   "outputs": [
    {
     "data": {
      "text/plain": [
       "array([[1, 2],\n",
       "       [3, 4],\n",
       "       [5, 6]])"
      ]
     },
     "execution_count": 29,
     "metadata": {},
     "output_type": "execute_result"
    }
   ],
   "source": [
    "mat_1"
   ]
  },
  {
   "cell_type": "code",
   "execution_count": 30,
   "metadata": {
    "colab": {
     "base_uri": "https://localhost:8080/"
    },
    "id": "UtIAN_HnqKS6",
    "outputId": "24b03284-3b94-4bd0-fa94-adab0c37881f"
   },
   "outputs": [
    {
     "data": {
      "text/plain": [
       "array([[1, 3, 5],\n",
       "       [2, 4, 6]])"
      ]
     },
     "execution_count": 30,
     "metadata": {},
     "output_type": "execute_result"
    }
   ],
   "source": [
    "mat_1.T  #flip rows & columns"
   ]
  },
  {
   "cell_type": "markdown",
   "metadata": {
    "id": "jhelpbB4UUZK"
   },
   "source": [
    "For higher-dimensional arrays, the `transpose` method allows you to specify the new order of the axes. You are doing so by providing a tuple of integers. If you specify axis 2 in the first entry of that tuple for instance, what used to be axis 2 now becomes axis 0 and so on:"
   ]
  },
  {
   "cell_type": "code",
   "execution_count": 31,
   "metadata": {
    "colab": {
     "base_uri": "https://localhost:8080/"
    },
    "id": "xJVL3yvtSkqB",
    "outputId": "bd92be01-bd0d-42bb-9528-cb428be262b5"
   },
   "outputs": [
    {
     "data": {
      "text/plain": [
       "(2, 10, 50, 2000)"
      ]
     },
     "execution_count": 31,
     "metadata": {},
     "output_type": "execute_result"
    }
   ],
   "source": [
    "arr.shape"
   ]
  },
  {
   "cell_type": "code",
   "execution_count": 34,
   "metadata": {
    "colab": {
     "base_uri": "https://localhost:8080/"
    },
    "id": "eLz08r1oWD48",
    "outputId": "262b2dc7-1934-48ee-da01-6623ee7dfa8c"
   },
   "outputs": [
    {
     "data": {
      "text/plain": [
       "(50, 2, 10, 2000)"
      ]
     },
     "execution_count": 34,
     "metadata": {},
     "output_type": "execute_result"
    }
   ],
   "source": [
    "arr_t = arr.transpose((2, 0, 1, 3))    #you change the position of the axes\n",
    "arr_t.shape"
   ]
  },
  {
   "cell_type": "markdown",
   "metadata": {
    "id": "ipbiX8ynSCNr"
   },
   "source": [
    "## Questions\n",
    "What is going to be the output shape of the following commands?\n",
    "```\n",
    "arr_t = arr.transpose((1,3,2,0))\n",
    "arr_t = arr.transpose((2,1,0,3))\n",
    "arr_t = arr.transpose((0,1,2,3))\n",
    "```\n",
    "Try to predict the shape and then test it by running the commands."
   ]
  },
  {
   "cell_type": "code",
   "execution_count": 35,
   "metadata": {},
   "outputs": [
    {
     "data": {
      "text/plain": [
       "(10, 2000, 50, 2)"
      ]
     },
     "execution_count": 35,
     "metadata": {},
     "output_type": "execute_result"
    }
   ],
   "source": [
    "arr_t = arr.transpose((1,3,2,0))\n",
    "arr_t.shape"
   ]
  },
  {
   "cell_type": "code",
   "execution_count": 36,
   "metadata": {},
   "outputs": [
    {
     "data": {
      "text/plain": [
       "(10, 2000, 50, 2)"
      ]
     },
     "execution_count": 36,
     "metadata": {},
     "output_type": "execute_result"
    }
   ],
   "source": [
    "aarr_t = arr.transpose((2,1,0,3))\n",
    "arr_t.shape"
   ]
  },
  {
   "cell_type": "code",
   "execution_count": 37,
   "metadata": {},
   "outputs": [
    {
     "data": {
      "text/plain": [
       "(2, 10, 50, 2000)"
      ]
     },
     "execution_count": 37,
     "metadata": {},
     "output_type": "execute_result"
    }
   ],
   "source": [
    "arr_t = arr.transpose((0,1,2,3))\n",
    "arr_t.shape"
   ]
  },
  {
   "cell_type": "markdown",
   "metadata": {
    "id": "K_bR9EdTcJ0U"
   },
   "source": [
    "### Broadcasting"
   ]
  },
  {
   "cell_type": "markdown",
   "metadata": {
    "id": "RuSm1ullcVBX"
   },
   "source": [
    "In general you cannot add two matrices with different shapes:"
   ]
  },
  {
   "cell_type": "code",
   "execution_count": 38,
   "metadata": {
    "colab": {
     "base_uri": "https://localhost:8080/"
    },
    "id": "dC4lJH2ncJJD",
    "outputId": "aaff9a47-843f-40d8-aa7e-e8b2651a453a"
   },
   "outputs": [
    {
     "data": {
      "text/plain": [
       "(3, 2)"
      ]
     },
     "execution_count": 38,
     "metadata": {},
     "output_type": "execute_result"
    }
   ],
   "source": [
    "mat_1.shape"
   ]
  },
  {
   "cell_type": "code",
   "execution_count": 39,
   "metadata": {
    "colab": {
     "base_uri": "https://localhost:8080/"
    },
    "id": "lYd4fORPkZNd",
    "outputId": "358cd7d1-7314-479f-93f4-a4e6981a1c3a"
   },
   "outputs": [
    {
     "data": {
      "text/plain": [
       "(2, 3)"
      ]
     },
     "execution_count": 39,
     "metadata": {},
     "output_type": "execute_result"
    }
   ],
   "source": [
    "mat_3 = np.array([\n",
    "    [1,2,3],\n",
    "    [1,2,3]\n",
    "])\n",
    "mat_3.shape"
   ]
  },
  {
   "cell_type": "code",
   "execution_count": 40,
   "metadata": {
    "colab": {
     "base_uri": "https://localhost:8080/",
     "height": 167
    },
    "id": "3vC8NBhGkc0W",
    "outputId": "9dac0cb5-60ef-47ed-e2a4-c663e23698b1"
   },
   "outputs": [
    {
     "ename": "ValueError",
     "evalue": "operands could not be broadcast together with shapes (3,2) (2,3) ",
     "output_type": "error",
     "traceback": [
      "\u001b[1;31m---------------------------------------------------------------------------\u001b[0m",
      "\u001b[1;31mValueError\u001b[0m                                Traceback (most recent call last)",
      "\u001b[1;32mc:\\Users\\julap\\OneDrive\\Documents\\IntroPythonExample\\pfn_5_supp.ipynb Cell 32\u001b[0m in \u001b[0;36m<cell line: 1>\u001b[1;34m()\u001b[0m\n\u001b[1;32m----> <a href='vscode-notebook-cell:/c%3A/Users/julap/OneDrive/Documents/IntroPythonExample/pfn_5_supp.ipynb#X43sZmlsZQ%3D%3D?line=0'>1</a>\u001b[0m mat_1\u001b[39m+\u001b[39;49mmat_3\n",
      "\u001b[1;31mValueError\u001b[0m: operands could not be broadcast together with shapes (3,2) (2,3) "
     ]
    }
   ],
   "source": [
    "mat_1+mat_3"
   ]
  },
  {
   "cell_type": "markdown",
   "metadata": {
    "id": "OhFi4XhrkzZh"
   },
   "source": [
    "Elementwise operations can work between two arrays with unequal shapes:\n",
    "- If they match everywhere except where one of them has a dimension of length 1\n",
    "- If they have an unequal number of dimensions, the array with fewer dimensions is appended dimensions of length 1 in the beginning."
   ]
  },
  {
   "cell_type": "code",
   "execution_count": 41,
   "metadata": {
    "colab": {
     "base_uri": "https://localhost:8080/"
    },
    "id": "fVg714JHcTAN",
    "outputId": "1b7fb4a0-83b6-4f63-b7ad-23a7f6fe2e39"
   },
   "outputs": [
    {
     "data": {
      "text/plain": [
       "array([[2, 4],\n",
       "       [4, 6],\n",
       "       [6, 8]])"
      ]
     },
     "execution_count": 41,
     "metadata": {},
     "output_type": "execute_result"
    }
   ],
   "source": [
    "mat_4 = np.array([\n",
    "    [1,2]\n",
    "])\n",
    "mat_5 = np.array([\n",
    "    [1,2],\n",
    "    [3,4],\n",
    "    [5,6]\n",
    "])\n",
    "mat_4_plus_5 = mat_4+mat_5\n",
    "mat_4_plus_5"
   ]
  },
  {
   "cell_type": "code",
   "execution_count": 42,
   "metadata": {},
   "outputs": [
    {
     "data": {
      "text/plain": [
       "(1, 2)"
      ]
     },
     "execution_count": 42,
     "metadata": {},
     "output_type": "execute_result"
    }
   ],
   "source": [
    "mat_4.shape"
   ]
  },
  {
   "cell_type": "code",
   "execution_count": 43,
   "metadata": {},
   "outputs": [
    {
     "data": {
      "text/plain": [
       "(3, 2)"
      ]
     },
     "execution_count": 43,
     "metadata": {},
     "output_type": "execute_result"
    }
   ],
   "source": [
    "mat_5.shape"
   ]
  },
  {
   "cell_type": "markdown",
   "metadata": {
    "id": "txpp5D4Fcbnh"
   },
   "source": [
    "The same thing is true for matrices with one column or other elementwise operations."
   ]
  },
  {
   "cell_type": "code",
   "execution_count": 44,
   "metadata": {
    "id": "MAqugLYAxvX8"
   },
   "outputs": [],
   "source": [
    "divisor = np.array([[2], [1], [1]])"
   ]
  },
  {
   "cell_type": "code",
   "execution_count": 45,
   "metadata": {
    "colab": {
     "base_uri": "https://localhost:8080/"
    },
    "id": "1wwZoRZbxww4",
    "outputId": "73a1f9ad-33e1-4399-f00c-af5048109b2c"
   },
   "outputs": [
    {
     "data": {
      "text/plain": [
       "(3, 1)"
      ]
     },
     "execution_count": 45,
     "metadata": {},
     "output_type": "execute_result"
    }
   ],
   "source": [
    "divisor.shape"
   ]
  },
  {
   "cell_type": "code",
   "execution_count": 46,
   "metadata": {},
   "outputs": [
    {
     "data": {
      "text/plain": [
       "array([[2],\n",
       "       [1],\n",
       "       [1]])"
      ]
     },
     "execution_count": 46,
     "metadata": {},
     "output_type": "execute_result"
    }
   ],
   "source": [
    "divisor"
   ]
  },
  {
   "cell_type": "code",
   "execution_count": 47,
   "metadata": {
    "colab": {
     "base_uri": "https://localhost:8080/",
     "height": 167
    },
    "id": "K_YXKJNolJId",
    "outputId": "c5c99342-a503-4aad-89b2-f41c8fa45f5d"
   },
   "outputs": [
    {
     "data": {
      "text/plain": [
       "array([[1, 2],\n",
       "       [3, 4],\n",
       "       [5, 6]])"
      ]
     },
     "execution_count": 47,
     "metadata": {},
     "output_type": "execute_result"
    }
   ],
   "source": [
    "mat_1"
   ]
  },
  {
   "cell_type": "code",
   "execution_count": 48,
   "metadata": {
    "colab": {
     "base_uri": "https://localhost:8080/"
    },
    "id": "szv2oFgMcaJv",
    "outputId": "1b6837b3-fcb6-40d0-c456-2cfae20b071a"
   },
   "outputs": [
    {
     "data": {
      "text/plain": [
       "array([[0.5, 1. ],\n",
       "       [3. , 4. ],\n",
       "       [5. , 6. ]])"
      ]
     },
     "execution_count": 48,
     "metadata": {},
     "output_type": "execute_result"
    }
   ],
   "source": [
    "mat_1 / divisor"
   ]
  },
  {
   "cell_type": "code",
   "execution_count": 49,
   "metadata": {
    "id": "de902JjElM4W"
   },
   "outputs": [],
   "source": [
    "vec_1 = np.array([1, 2])  "
   ]
  },
  {
   "cell_type": "code",
   "execution_count": 50,
   "metadata": {
    "colab": {
     "base_uri": "https://localhost:8080/"
    },
    "id": "WOfbxyFRlQpe",
    "outputId": "e8d907f2-c730-474f-f82e-6fdaf44d56b6"
   },
   "outputs": [
    {
     "data": {
      "text/plain": [
       "(2,)"
      ]
     },
     "execution_count": 50,
     "metadata": {},
     "output_type": "execute_result"
    }
   ],
   "source": [
    "vec_1.shape"
   ]
  },
  {
   "cell_type": "code",
   "execution_count": 51,
   "metadata": {},
   "outputs": [
    {
     "data": {
      "text/plain": [
       "(3, 2)"
      ]
     },
     "execution_count": 51,
     "metadata": {},
     "output_type": "execute_result"
    }
   ],
   "source": [
    "mat_1.shape"
   ]
  },
  {
   "cell_type": "code",
   "execution_count": 61,
   "metadata": {
    "colab": {
     "base_uri": "https://localhost:8080/"
    },
    "id": "Aw0ed-0alRiq",
    "outputId": "bb6cf9a1-7bbb-4930-82bd-5e6051345aba"
   },
   "outputs": [
    {
     "data": {
      "text/plain": [
       "array([[2, 4],\n",
       "       [4, 6],\n",
       "       [6, 8]])"
      ]
     },
     "execution_count": 61,
     "metadata": {},
     "output_type": "execute_result"
    }
   ],
   "source": [
    "vec_1+mat_1   "
   ]
  },
  {
   "cell_type": "markdown",
   "metadata": {
    "id": "BdvzvNT1o1lx"
   },
   "source": [
    "### Questions\n",
    "\n",
    "Below we're creating arrays with different shapes. Try predicting for each if elementwise addition would work, what shape the resulting array would have, then try it out and see if you were correct."
   ]
  },
  {
   "cell_type": "code",
   "execution_count": 58,
   "metadata": {
    "id": "8vtf-cISnZyy"
   },
   "outputs": [],
   "source": [
    "arr_1 = np.ones((3,2))\n",
    "arr_2 = np.ones((2,3))\n",
    "#they cannot be together"
   ]
  },
  {
   "cell_type": "code",
   "execution_count": 59,
   "metadata": {},
   "outputs": [
    {
     "data": {
      "text/plain": [
       "(3, 2)"
      ]
     },
     "execution_count": 59,
     "metadata": {},
     "output_type": "execute_result"
    }
   ],
   "source": [
    "arr_1.shape"
   ]
  },
  {
   "cell_type": "code",
   "execution_count": 60,
   "metadata": {},
   "outputs": [
    {
     "data": {
      "text/plain": [
       "(2, 3)"
      ]
     },
     "execution_count": 60,
     "metadata": {},
     "output_type": "execute_result"
    }
   ],
   "source": [
    "arr_2.shape"
   ]
  },
  {
   "cell_type": "code",
   "execution_count": null,
   "metadata": {
    "id": "eX7dR8TJndJ9"
   },
   "outputs": [],
   "source": [
    "arr_1 = np.ones((4,1,5))\n",
    "arr_2 = np.ones((4,6,5))"
   ]
  },
  {
   "cell_type": "code",
   "execution_count": null,
   "metadata": {
    "id": "n5gRH_tvnnai"
   },
   "outputs": [],
   "source": [
    "arr_1 = np.ones((4,1,5))\n",
    "arr_2 = np.ones((4,6,1))"
   ]
  },
  {
   "cell_type": "code",
   "execution_count": null,
   "metadata": {
    "id": "3Hgh_ZD-nuvk"
   },
   "outputs": [],
   "source": [
    "arr_1 = np.ones((4,3,5))\n",
    "arr_2 = np.ones((3,5))"
   ]
  },
  {
   "cell_type": "code",
   "execution_count": null,
   "metadata": {
    "id": "jBNPjK5gnyBF"
   },
   "outputs": [],
   "source": [
    "arr_1 = np.ones((4,3,5))\n",
    "arr_2 = np.ones((4,3))"
   ]
  },
  {
   "cell_type": "markdown",
   "metadata": {
    "id": "XBw_AOc0rSyF"
   },
   "source": [
    "### Boolean indexing"
   ]
  },
  {
   "cell_type": "markdown",
   "metadata": {
    "id": "FG9TiQuZrVuU"
   },
   "source": [
    "Do you remember how to create an array that has True values for any entry smaller than 5 and False value for all other entries?"
   ]
  },
  {
   "cell_type": "code",
   "execution_count": null,
   "metadata": {},
   "outputs": [],
   "source": [
    "vec = np.arange(10)"
   ]
  },
  {
   "cell_type": "code",
   "execution_count": null,
   "metadata": {},
   "outputs": [],
   "source": [
    "np.arange(10)"
   ]
  },
  {
   "cell_type": "code",
   "execution_count": null,
   "metadata": {
    "colab": {
     "base_uri": "https://localhost:8080/"
    },
    "id": "b8O9g9rT7v1J",
    "outputId": "d68634ac-49de-4cb1-b75e-0cfa357e858f"
   },
   "outputs": [],
   "source": [
    "vec < 5"
   ]
  },
  {
   "cell_type": "code",
   "execution_count": null,
   "metadata": {
    "colab": {
     "base_uri": "https://localhost:8080/"
    },
    "id": "x9ZXEpI4rRwN",
    "outputId": "871f961d-8c80-480e-d72a-790d7b98f14c"
   },
   "outputs": [],
   "source": [
    "selector = vec < 5\n",
    "selector"
   ]
  },
  {
   "cell_type": "markdown",
   "metadata": {
    "id": "3FE2fc9Src2F"
   },
   "source": [
    "You can use these boolean arrays to subset the corresponding true values."
   ]
  },
  {
   "cell_type": "code",
   "execution_count": null,
   "metadata": {
    "colab": {
     "base_uri": "https://localhost:8080/"
    },
    "id": "E_346Ach9Yc3",
    "outputId": "8387c004-114f-40a7-b29c-9dda5446f30a"
   },
   "outputs": [],
   "source": [
    "vec"
   ]
  },
  {
   "cell_type": "code",
   "execution_count": null,
   "metadata": {
    "colab": {
     "base_uri": "https://localhost:8080/"
    },
    "id": "__3rjtD4rcLE",
    "outputId": "91ef1550-ebe4-429d-c90b-c044c39c5b3a"
   },
   "outputs": [],
   "source": [
    "vec[selector]"
   ]
  },
  {
   "cell_type": "code",
   "execution_count": null,
   "metadata": {
    "colab": {
     "base_uri": "https://localhost:8080/"
    },
    "id": "obfmbaxk9i-a",
    "outputId": "91b80004-4b61-4468-ce78-ab68d6d21e70"
   },
   "outputs": [],
   "source": [
    "vec[vec<5]"
   ]
  },
  {
   "cell_type": "markdown",
   "metadata": {
    "id": "8MaLCKf9rktz"
   },
   "source": [
    "You can do the same with matrices:"
   ]
  },
  {
   "cell_type": "code",
   "execution_count": null,
   "metadata": {
    "colab": {
     "base_uri": "https://localhost:8080/"
    },
    "id": "rlF_CayR9mFR",
    "outputId": "107d1bca-18b0-4d04-aff0-3ed4dc0c94a8"
   },
   "outputs": [],
   "source": [
    "mat_1"
   ]
  },
  {
   "cell_type": "code",
   "execution_count": null,
   "metadata": {
    "colab": {
     "base_uri": "https://localhost:8080/"
    },
    "id": "EwzXKJemruRW",
    "outputId": "75dc509c-04ac-429a-e06b-ff3487dc4521"
   },
   "outputs": [],
   "source": [
    "mat_1 >= 3"
   ]
  },
  {
   "cell_type": "code",
   "execution_count": null,
   "metadata": {
    "colab": {
     "base_uri": "https://localhost:8080/"
    },
    "id": "Iuxu6VIkrj7b",
    "outputId": "19f35f55-1e29-4348-d1ad-2e5adbcee5cf"
   },
   "outputs": [],
   "source": [
    "mat_1[mat_1 >= 3]"
   ]
  },
  {
   "cell_type": "markdown",
   "metadata": {
    "id": "Ei0wsNmortBZ"
   },
   "source": [
    "### Questions\n",
    "- Consider the example matrix from above and subset all entries with values between 2 and 4."
   ]
  }
 ],
 "metadata": {
  "colab": {
   "collapsed_sections": [],
   "provenance": []
  },
  "kernelspec": {
   "display_name": "Python 3.10.4 ('intropython')",
   "language": "python",
   "name": "python3"
  },
  "language_info": {
   "codemirror_mode": {
    "name": "ipython",
    "version": 3
   },
   "file_extension": ".py",
   "mimetype": "text/x-python",
   "name": "python",
   "nbconvert_exporter": "python",
   "pygments_lexer": "ipython3",
   "version": "3.10.4"
  },
  "vscode": {
   "interpreter": {
    "hash": "61cdecc6168b523c4ae9a20fd2223ddf16f9b5585a9352a00eaa3c18a9406cc8"
   }
  }
 },
 "nbformat": 4,
 "nbformat_minor": 1
}
